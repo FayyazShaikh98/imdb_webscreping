{
  "nbformat": 4,
  "nbformat_minor": 0,
  "metadata": {
    "colab": {
      "provenance": [],
      "authorship_tag": "ABX9TyMsLTinHQqMCcI9DiuTW5G1",
      "include_colab_link": true
    },
    "kernelspec": {
      "name": "python3",
      "display_name": "Python 3"
    },
    "language_info": {
      "name": "python"
    }
  },
  "cells": [
    {
      "cell_type": "markdown",
      "metadata": {
        "id": "view-in-github",
        "colab_type": "text"
      },
      "source": [
        "<a href=\"https://colab.research.google.com/github/FayyazShaikh98/FayyazShaikh98/blob/main/IMDB_webscreping_project.ipynb\" target=\"_parent\"><img src=\"https://colab.research.google.com/assets/colab-badge.svg\" alt=\"Open In Colab\"/></a>"
      ]
    },
    {
      "cell_type": "markdown",
      "source": [
        "### Project on IMDB Top Movies"
      ],
      "metadata": {
        "id": "HyGtgFulp1W1"
      }
    },
    {
      "cell_type": "markdown",
      "source": [
        "![imdb_image2.jpeg](data:image/jpeg;base64,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)"
      ],
      "metadata": {
        "id": "B9OadIZnpuCM"
      }
    },
    {
      "cell_type": "markdown",
      "source": [
        "### Introduction : In this project, I developed a web scraper using Python and the BeautifulSoup library to extract data from IMDb. The goal was to collect the titles of the top 25 movies as ranked by user ratings. By accessing the IMDb search page for the top 25 movies and parsing the HTML content, the script successfully navigates through the page structure to retrieve and display the movie titles. This project demonstrates the practical application of web scraping techniques to automate data collection from a dynamic website, which can be useful for various data analysis and research purposes."
      ],
      "metadata": {
        "id": "B8YcU1qXlsUX"
      }
    },
    {
      "cell_type": "markdown",
      "source": [
        "### Let's Start"
      ],
      "metadata": {
        "id": "Mw4EDb4kO_i0"
      }
    },
    {
      "cell_type": "markdown",
      "source": [
        "### Import libraries"
      ],
      "metadata": {
        "id": "b9A3bAXegm4T"
      }
    },
    {
      "cell_type": "code",
      "source": [
        "# Importing libraries\n",
        "import numpy as np\n",
        "import pandas as pd\n",
        "from bs4 import BeautifulSoup\n",
        "import requests\n",
        "import re"
      ],
      "metadata": {
        "id": "_9m9cpoNglhI"
      },
      "execution_count": 1,
      "outputs": []
    },
    {
      "cell_type": "markdown",
      "source": [
        "### Getting started  with web scraping of IMDB Movies"
      ],
      "metadata": {
        "id": "YprMsNfFmEFG"
      }
    },
    {
      "cell_type": "code",
      "execution_count": 2,
      "metadata": {
        "id": "j74NEzI0ggU2"
      },
      "outputs": [],
      "source": [
        "# Getting a imdb_url to parse the html code\n",
        "imdb_url = 'https://www.imdb.com/search/title/?groups=top_100&sort=user_rating,desc'\n",
        "HEADERS = ({'User-Agent':\"Mozilla/5.0 (Windows NT 10.0; Win64; x64) AppleWebKit/537.36 (KHTML, like Gecko) Chrome/123.0.0.0 Safari/537.36\",'Accept-Language': 'en-US, en;q=0.5'})\n",
        "imdb_response = requests.get(imdb_url, headers=HEADERS)"
      ]
    },
    {
      "cell_type": "code",
      "source": [
        "# using soup to get html code\n",
        "soup = BeautifulSoup(imdb_response.text, 'html.parser')"
      ],
      "metadata": {
        "id": "cUm3R1TfhmkP"
      },
      "execution_count": 3,
      "outputs": []
    },
    {
      "cell_type": "code",
      "source": [
        "# Soup will give all the html code of whole url page\n",
        "soup"
      ],
      "metadata": {
        "id": "T5v0gxpsT98l"
      },
      "execution_count": null,
      "outputs": []
    },
    {
      "cell_type": "markdown",
      "source": [
        "### Task 1: Getting movie titles"
      ],
      "metadata": {
        "id": "BfRm7pDQmezY"
      }
    },
    {
      "cell_type": "code",
      "source": [
        "# Creating a variable movie_elemenets to get all the movie titles.\n",
        "movie_elements = soup.find_all('li', attrs={'class': 'ipc-metadata-list-summary-item'})\n",
        "\n",
        "# Initialize an empty list to store cleaned movie names\n",
        "cleaned_movie_names = []\n",
        "\n",
        "# Loop through each movie element, extract the name, and clean it\n",
        "for movie in movie_elements:\n",
        "    movie_name = movie.find('h3', attrs={'class': 'ipc-title__text'}).text\n",
        "    movie_name_cleaned = re.sub(r'\\d+\\.', '', movie_name).strip()  # Remove numbers and dot\n",
        "    cleaned_movie_names.append(movie_name_cleaned)\n",
        "\n",
        "# Print all cleaned movie names\n",
        "for name in cleaned_movie_names:\n",
        "    print(name)"
      ],
      "metadata": {
        "colab": {
          "base_uri": "https://localhost:8080/"
        },
        "id": "APXpj82w39ml",
        "outputId": "077b52dc-4657-475c-8763-829d0ee222e0",
        "collapsed": true
      },
      "execution_count": 5,
      "outputs": [
        {
          "output_type": "stream",
          "name": "stdout",
          "text": [
            "The Shawshank Redemption\n",
            "The Godfather\n",
            "The Dark Knight\n",
            "Schindler's List\n",
            "The Lord of the Rings: The Return of the King\n",
            "12 Angry Men\n",
            "The Godfather Part II\n",
            "The Lord of the Rings: The Fellowship of the Ring\n",
            "Pulp Fiction\n",
            "12th Fail\n",
            "Inception\n",
            "Fight Club\n",
            "Forrest Gump\n",
            "The Good, the Bad and the Ugly\n",
            "The Lord of the Rings: The Two Towers\n",
            "Interstellar\n",
            "The Matrix\n",
            "Goodfellas\n",
            "One Flew Over the Cuckoo's Nest\n",
            "Star Wars: Episode V - The Empire Strikes Back\n",
            "Dune: Part Two\n",
            "The Silence of the Lambs\n",
            "Se7en\n",
            "The Green Mile\n",
            "Spider-Man: Across the Spider-Verse\n"
          ]
        }
      ]
    },
    {
      "cell_type": "markdown",
      "source": [
        "### Task 2: Getting release year"
      ],
      "metadata": {
        "id": "0hnNod-4mwT2"
      }
    },
    {
      "cell_type": "code",
      "source": [
        "# By creating a variable release_year i had passed the (span) tags which gives the release year of the movies\n",
        "release_year = soup.find_all('li', attrs ={'class': 'ipc-metadata-list-summary-item'})[0].find_all('span',attrs = {'class': 'sc-b189961a-8 hCbzGp dli-title-metadata-item'})[0].text"
      ],
      "metadata": {
        "id": "cWaqt-StEGdo"
      },
      "execution_count": 26,
      "outputs": []
    },
    {
      "cell_type": "code",
      "source": [
        "release_year"
      ],
      "metadata": {
        "colab": {
          "base_uri": "https://localhost:8080/",
          "height": 36
        },
        "collapsed": true,
        "id": "XBeNffWaEQre",
        "outputId": "bd221c42-aac1-4c88-fe75-696d1be7c1b2"
      },
      "execution_count": 27,
      "outputs": [
        {
          "output_type": "execute_result",
          "data": {
            "text/plain": [
              "'1994'"
            ],
            "application/vnd.google.colaboratory.intrinsic+json": {
              "type": "string"
            }
          },
          "metadata": {},
          "execution_count": 27
        }
      ]
    },
    {
      "cell_type": "code",
      "source": [
        "release_year = []\n",
        "for i in soup.find_all('li', attrs ={'class': 'ipc-metadata-list-summary-item'}):\n",
        "    release_year.append(i.find_all('span',attrs = {'class': 'sc-b189961a-8 hCbzGp dli-title-metadata-item'})[0].text)"
      ],
      "metadata": {
        "id": "WNsvOxahFgWq"
      },
      "execution_count": 28,
      "outputs": []
    },
    {
      "cell_type": "code",
      "source": [
        "release_year"
      ],
      "metadata": {
        "colab": {
          "base_uri": "https://localhost:8080/"
        },
        "collapsed": true,
        "id": "fIbO5ulGFppl",
        "outputId": "dfb33cf9-a55f-44e5-ec97-cbdf37581aeb"
      },
      "execution_count": 29,
      "outputs": [
        {
          "output_type": "execute_result",
          "data": {
            "text/plain": [
              "['1994',\n",
              " '1972',\n",
              " '2008',\n",
              " '1993',\n",
              " '2003',\n",
              " '1957',\n",
              " '1974',\n",
              " '2001',\n",
              " '1994',\n",
              " '2023',\n",
              " '2010',\n",
              " '1999',\n",
              " '1994',\n",
              " '1966',\n",
              " '2002',\n",
              " '2014',\n",
              " '1999',\n",
              " '1990',\n",
              " '1975',\n",
              " '1980',\n",
              " '2024',\n",
              " '1991',\n",
              " '1995',\n",
              " '1999',\n",
              " '2023']"
            ]
          },
          "metadata": {},
          "execution_count": 29
        }
      ]
    },
    {
      "cell_type": "markdown",
      "source": [
        "### Task 3: Movie Runtime/Duration"
      ],
      "metadata": {
        "id": "n5ASMKu8nUov"
      }
    },
    {
      "cell_type": "code",
      "source": [
        "# Getting movie runtime/duration\n",
        "runtime = soup.find_all('li', attrs ={'class': 'ipc-metadata-list-summary-item'})[0].find_all('span',attrs = {'class': 'sc-b189961a-8 hCbzGp dli-title-metadata-item'})[1].text"
      ],
      "metadata": {
        "id": "QVp4HqW3qKLm"
      },
      "execution_count": 45,
      "outputs": []
    },
    {
      "cell_type": "code",
      "source": [
        "runtimes = []\n",
        "for i in soup.find_all('li', attrs ={'class': 'ipc-metadata-list-summary-item'}):\n",
        "    runtimes.append(i.find_all('span',attrs = {'class': 'sc-b189961a-8 hCbzGp dli-title-metadata-item'})[1].text)"
      ],
      "metadata": {
        "id": "Vw0H4I82GzGp"
      },
      "execution_count": 47,
      "outputs": []
    },
    {
      "cell_type": "code",
      "source": [
        "runtimes"
      ],
      "metadata": {
        "colab": {
          "base_uri": "https://localhost:8080/"
        },
        "collapsed": true,
        "id": "y7TDAQ1oGOLy",
        "outputId": "9984628d-32d5-42eb-f3e6-2f46cd8bd036"
      },
      "execution_count": 48,
      "outputs": [
        {
          "output_type": "execute_result",
          "data": {
            "text/plain": [
              "['2h 22m',\n",
              " '2h 55m',\n",
              " '2h 32m',\n",
              " '3h 15m',\n",
              " '3h 21m',\n",
              " '1h 36m',\n",
              " '3h 22m',\n",
              " '2h 58m',\n",
              " '2h 34m',\n",
              " '2h 27m',\n",
              " '2h 28m',\n",
              " '2h 19m',\n",
              " '2h 22m',\n",
              " '2h 58m',\n",
              " '2h 59m',\n",
              " '2h 49m',\n",
              " '2h 16m',\n",
              " '2h 25m',\n",
              " '2h 13m',\n",
              " '2h 4m',\n",
              " '2h 46m',\n",
              " '1h 58m',\n",
              " '2h 7m',\n",
              " '3h 9m',\n",
              " '2h 20m']"
            ]
          },
          "metadata": {},
          "execution_count": 48
        }
      ]
    },
    {
      "cell_type": "markdown",
      "source": [
        "### Task 4: Rating of movies"
      ],
      "metadata": {
        "id": "Z0EpvaOinqnz"
      }
    },
    {
      "cell_type": "code",
      "source": [
        "# Getting imdb_rating of movies\n",
        "rating =  soup.find('span', class_='ipc-rating-star ipc-rating-star--base ipc-rating-star--imdb ratingGroup--imdb-rating').text.strip().split()[0]"
      ],
      "metadata": {
        "id": "UfBXjnt5upOe"
      },
      "execution_count": 49,
      "outputs": []
    },
    {
      "cell_type": "code",
      "source": [
        "movie_ratings = []\n",
        "for i in soup.find_all('span', attrs = {'class': 'ipc-rating-star ipc-rating-star--base ipc-rating-star--imdb ratingGroup--imdb-rating'}):\n",
        "    movie_ratings.append(i.text.strip().split()[0])"
      ],
      "metadata": {
        "id": "mc8wKDm1HCfk"
      },
      "execution_count": 55,
      "outputs": []
    },
    {
      "cell_type": "code",
      "source": [
        "movie_ratings"
      ],
      "metadata": {
        "colab": {
          "base_uri": "https://localhost:8080/"
        },
        "collapsed": true,
        "id": "vndFymEIHApC",
        "outputId": "ccc0633d-e335-4ef0-d51a-ad4ad3f28572"
      },
      "execution_count": 56,
      "outputs": [
        {
          "output_type": "execute_result",
          "data": {
            "text/plain": [
              "['9.3',\n",
              " '9.2',\n",
              " '9.0',\n",
              " '9.0',\n",
              " '9.0',\n",
              " '9.0',\n",
              " '9.0',\n",
              " '8.9',\n",
              " '8.9',\n",
              " '8.9',\n",
              " '8.8',\n",
              " '8.8',\n",
              " '8.8',\n",
              " '8.8',\n",
              " '8.8',\n",
              " '8.7',\n",
              " '8.7',\n",
              " '8.7',\n",
              " '8.7',\n",
              " '8.7',\n",
              " '8.6',\n",
              " '8.6',\n",
              " '8.6',\n",
              " '8.6',\n",
              " '8.6']"
            ]
          },
          "metadata": {},
          "execution_count": 56
        }
      ]
    },
    {
      "cell_type": "markdown",
      "source": [
        "### Task 5: Number of Views"
      ],
      "metadata": {
        "id": "-e2SdfrrM0BF"
      }
    },
    {
      "cell_type": "code",
      "source": [
        "# Getting Number of views\n",
        "views=  soup.find_all('li', attrs = {'class' : 'ipc-metadata-list-summary-item'})[0].find_all('span', attrs = {'class': 'ipc-rating-star--voteCount'})[0].text.strip().replace(\"(\", \"\").replace(\")\", \"\")"
      ],
      "metadata": {
        "id": "sV0hEeGJsaa7"
      },
      "execution_count": 65,
      "outputs": []
    },
    {
      "cell_type": "code",
      "source": [
        "views = []\n",
        "for i in soup.find_all('li', attrs = {'class' : 'ipc-metadata-list-summary-item'}):\n",
        "    views.append(i.find_all('span', attrs = {'class': 'ipc-rating-star--voteCount'})[0].text.strip().replace(\"(\", \"\").replace(\")\", \"\"))"
      ],
      "metadata": {
        "id": "h8j5_KibHOr5"
      },
      "execution_count": 71,
      "outputs": []
    },
    {
      "cell_type": "code",
      "source": [
        "views"
      ],
      "metadata": {
        "colab": {
          "base_uri": "https://localhost:8080/"
        },
        "collapsed": true,
        "id": "uFcQbmNQHyr-",
        "outputId": "bba5f590-5c4c-4f04-d30a-0afd93be71e2"
      },
      "execution_count": 72,
      "outputs": [
        {
          "output_type": "execute_result",
          "data": {
            "text/plain": [
              "['2.9M',\n",
              " '2M',\n",
              " '2.9M',\n",
              " '1.5M',\n",
              " '2M',\n",
              " '876K',\n",
              " '1.4M',\n",
              " '2M',\n",
              " '2.2M',\n",
              " '123K',\n",
              " '2.6M',\n",
              " '2.4M',\n",
              " '2.3M',\n",
              " '819K',\n",
              " '1.8M',\n",
              " '2.1M',\n",
              " '2.1M',\n",
              " '1.3M',\n",
              " '1.1M',\n",
              " '1.4M',\n",
              " '482K',\n",
              " '1.6M',\n",
              " '1.8M',\n",
              " '1.4M',\n",
              " '388K']"
            ]
          },
          "metadata": {},
          "execution_count": 72
        }
      ]
    },
    {
      "cell_type": "markdown",
      "source": [
        "### Task 6: Movie Description"
      ],
      "metadata": {
        "id": "JNbP4YdKM-kN"
      }
    },
    {
      "cell_type": "code",
      "source": [
        "# Scrapeing the movie description\n",
        "movies_description = soup.find_all('li', attrs = {'class': 'ipc-metadata-list-summary-item'})[0].find_all('div', attrs = {'class': 'ipc-html-content-inner-div'})[0].text.strip()"
      ],
      "metadata": {
        "id": "wS0HK9lRyXEL"
      },
      "execution_count": 73,
      "outputs": []
    },
    {
      "cell_type": "code",
      "source": [
        "movies_description = []\n",
        "for i in soup.find_all('li', attrs = {'class': 'ipc-metadata-list-summary-item'}):\n",
        "    movies_description.append(i.find_all('div', attrs = {'class': 'ipc-html-content-inner-div'})[0].text.strip())"
      ],
      "metadata": {
        "id": "lwTywg0qyrEu"
      },
      "execution_count": 74,
      "outputs": []
    },
    {
      "cell_type": "code",
      "source": [
        "movies_description"
      ],
      "metadata": {
        "colab": {
          "base_uri": "https://localhost:8080/"
        },
        "collapsed": true,
        "id": "TIjbj2QLDxi2",
        "outputId": "1a45aef6-b07c-491d-dbc9-d01c6cb539e9"
      },
      "execution_count": 75,
      "outputs": [
        {
          "output_type": "execute_result",
          "data": {
            "text/plain": [
              "['Over the course of several years, two convicts form a friendship, seeking consolation and, eventually, redemption through basic compassion.',\n",
              " 'Don Vito Corleone, head of a mafia family, decides to hand over his empire to his youngest son, Michael. However, his decision unintentionally puts the lives of his loved ones in grave danger.',\n",
              " 'When the menace known as the Joker wreaks havoc and chaos on the people of Gotham, Batman must accept one of the greatest psychological and physical tests of his ability to fight injustice.',\n",
              " 'In German-occupied Poland during World War II, industrialist Oskar Schindler gradually becomes concerned for his Jewish workforce after witnessing their persecution by the Nazis.',\n",
              " \"Gandalf and Aragorn lead the World of Men against Sauron's army to draw his gaze from Frodo and Sam as they approach Mount Doom with the One Ring.\",\n",
              " 'The jury in a New York City murder trial is frustrated by a single member whose skeptical caution forces them to more carefully consider the evidence before jumping to a hasty verdict.',\n",
              " 'The early life and career of Vito Corleone in 1920s New York City is portrayed, while his son, Michael, expands and tightens his grip on the family crime syndicate.',\n",
              " 'A meek Hobbit from the Shire and eight companions set out on a journey to destroy the powerful One Ring and save Middle-earth from the Dark Lord Sauron.',\n",
              " 'The lives of two mob hitmen, a boxer, a gangster and his wife, and a pair of diner bandits intertwine in four tales of violence and redemption.',\n",
              " 'The real-life story of IPS Officer Manoj Kumar Sharma and IRS Officer Shraddha Joshi.',\n",
              " 'A thief who steals corporate secrets through the use of dream-sharing technology is given the inverse task of planting an idea into the mind of a C.E.O., but his tragic past may doom the project and his team to disaster.',\n",
              " 'An insomniac office worker and a devil-may-care soap maker form an underground fight club that evolves into much more.',\n",
              " \"The history of the United States from the 1950s to the '70s unfolds from the perspective of an Alabama man with an IQ of 75, who yearns to be reunited with his childhood sweetheart.\",\n",
              " 'A bounty hunting scam joins two men in an uneasy alliance against a third in a race to find a fortune in gold buried in a remote cemetery.',\n",
              " \"While Frodo and Sam edge closer to Mordor with the help of the shifty Gollum, the divided fellowship makes a stand against Sauron's new ally, Saruman, and his hordes of Isengard.\",\n",
              " 'When Earth becomes uninhabitable in the future, a farmer and ex-NASA pilot, Joseph Cooper, is tasked to pilot a spacecraft, along with a team of researchers, to find a new planet for humans.',\n",
              " 'When a beautiful stranger leads computer hacker Neo to a forbidding underworld, he discovers the shocking truth--the life he knows is the elaborate deception of an evil cyber-intelligence.',\n",
              " 'The story of Henry Hill and his life in the mafia, covering his relationship with his wife Karen and his mob partners Jimmy Conway and Tommy DeVito.',\n",
              " 'In the Fall of 1963, a Korean War veteran and criminal pleads insanity and is admitted to a mental institution, where he rallies up the scared patients against the tyrannical nurse.',\n",
              " 'After the Rebel Alliance are overpowered by the Empire, Luke Skywalker begins his Jedi training with Yoda, while his friends are pursued across the galaxy by Darth Vader and bounty hunter Boba Fett.',\n",
              " 'Paul Atreides unites with Chani and the Fremen while seeking revenge against the conspirators who destroyed his family.',\n",
              " 'A young F.B.I. cadet must receive the help of an incarcerated and manipulative cannibal killer to help catch another serial killer, a madman who skins his victims.',\n",
              " 'Two detectives, a rookie and a veteran, hunt a serial killer who uses the seven deadly sins as his motives.',\n",
              " \"A tale set on death row, where gentle giant John Coffey possesses the mysterious power to heal people's ailments. When the lead guard, Paul Edgecombe, recognizes John's gift, he tries to help stave off the condemned man's execution.\",\n",
              " 'Miles Morales catapults across the multiverse, where he encounters a team of Spider-People charged with protecting its very existence. When the heroes clash on how to handle a new threat, Miles must redefine what it means to be a hero.']"
            ]
          },
          "metadata": {},
          "execution_count": 75
        }
      ]
    },
    {
      "cell_type": "markdown",
      "source": [
        "### Task 7: Movie Links"
      ],
      "metadata": {
        "id": "nc7eOKiGNGGc"
      }
    },
    {
      "cell_type": "code",
      "source": [
        "# Getting each movie links\n",
        "movie_links = soup.find_all('a', attrs = {'class': 'ipc-lockup-overlay ipc-focusable'})[0].get('href')"
      ],
      "metadata": {
        "id": "I1FopxnUdVV0"
      },
      "execution_count": 77,
      "outputs": []
    },
    {
      "cell_type": "code",
      "source": [
        "movie_links = []\n",
        "for i in soup.find_all('a', attrs = {'class': 'ipc-lockup-overlay ipc-focusable'}):\n",
        "    movie_links.append('https://www.imdb.com'+ i.get('href'))"
      ],
      "metadata": {
        "id": "lKu2jbLzYsmi"
      },
      "execution_count": 78,
      "outputs": []
    },
    {
      "cell_type": "code",
      "source": [
        "movie_links"
      ],
      "metadata": {
        "colab": {
          "base_uri": "https://localhost:8080/"
        },
        "id": "nRprfcLqYzJp",
        "outputId": "15441df5-42b7-4b5f-f34a-f16f11035524"
      },
      "execution_count": 79,
      "outputs": [
        {
          "output_type": "execute_result",
          "data": {
            "text/plain": [
              "['https://www.imdb.com/title/tt0111161/?ref_=sr_i_1',\n",
              " 'https://www.imdb.com/title/tt0068646/?ref_=sr_i_2',\n",
              " 'https://www.imdb.com/title/tt0468569/?ref_=sr_i_3',\n",
              " 'https://www.imdb.com/title/tt0108052/?ref_=sr_i_4',\n",
              " 'https://www.imdb.com/title/tt0167260/?ref_=sr_i_5',\n",
              " 'https://www.imdb.com/title/tt0050083/?ref_=sr_i_6',\n",
              " 'https://www.imdb.com/title/tt0071562/?ref_=sr_i_7',\n",
              " 'https://www.imdb.com/title/tt0120737/?ref_=sr_i_8',\n",
              " 'https://www.imdb.com/title/tt0110912/?ref_=sr_i_9',\n",
              " 'https://www.imdb.com/title/tt23849204/?ref_=sr_i_10',\n",
              " 'https://www.imdb.com/title/tt1375666/?ref_=sr_i_11',\n",
              " 'https://www.imdb.com/title/tt0137523/?ref_=sr_i_12',\n",
              " 'https://www.imdb.com/title/tt0109830/?ref_=sr_i_13',\n",
              " 'https://www.imdb.com/title/tt0060196/?ref_=sr_i_14',\n",
              " 'https://www.imdb.com/title/tt0167261/?ref_=sr_i_15',\n",
              " 'https://www.imdb.com/title/tt0816692/?ref_=sr_i_16',\n",
              " 'https://www.imdb.com/title/tt0133093/?ref_=sr_i_17',\n",
              " 'https://www.imdb.com/title/tt0099685/?ref_=sr_i_18',\n",
              " 'https://www.imdb.com/title/tt0073486/?ref_=sr_i_19',\n",
              " 'https://www.imdb.com/title/tt0080684/?ref_=sr_i_20',\n",
              " 'https://www.imdb.com/title/tt15239678/?ref_=sr_i_21',\n",
              " 'https://www.imdb.com/title/tt0102926/?ref_=sr_i_22',\n",
              " 'https://www.imdb.com/title/tt0114369/?ref_=sr_i_23',\n",
              " 'https://www.imdb.com/title/tt0120689/?ref_=sr_i_24',\n",
              " 'https://www.imdb.com/title/tt9362722/?ref_=sr_i_25',\n",
              " 'https://www.imdb.comhttps://slyb.app.link/Aa96cLcBeAb']"
            ]
          },
          "metadata": {},
          "execution_count": 79
        }
      ]
    },
    {
      "cell_type": "code",
      "source": [
        "movie_links"
      ],
      "metadata": {
        "id": "IQJ6A5MVXCiS"
      },
      "execution_count": null,
      "outputs": []
    },
    {
      "cell_type": "code",
      "source": [
        "# Define your list\n",
        "new_movie_links = [\n",
        "    'https://www.imdb.com/title/tt0111161/?ref_=sr_i_1',\n",
        "    'https://www.imdb.com/title/tt0068646/?ref_=sr_i_2',\n",
        "    'https://www.imdb.com/title/tt0468569/?ref_=sr_i_3',\n",
        "    'https://www.imdb.com/title/tt0108052/?ref_=sr_i_4',\n",
        "    'https://www.imdb.com/title/tt0167260/?ref_=sr_i_5',\n",
        "    'https://www.imdb.com/title/tt0050083/?ref_=sr_i_6',\n",
        "    'https://www.imdb.com/title/tt0071562/?ref_=sr_i_7',\n",
        "    'https://www.imdb.com/title/tt0120737/?ref_=sr_i_8',\n",
        "    'https://www.imdb.com/title/tt0110912/?ref_=sr_i_9',\n",
        "    'https://www.imdb.com/title/tt23849204/?ref_=sr_i_10',\n",
        "    'https://www.imdb.com/title/tt0109830/?ref_=sr_i_11',\n",
        "    'https://www.imdb.com/title/tt1375666/?ref_=sr_i_12',\n",
        "    'https://www.imdb.com/title/tt0137523/?ref_=sr_i_13',\n",
        "    'https://www.imdb.com/title/tt0167261/?ref_=sr_i_14',\n",
        "    'https://www.imdb.com/title/tt0060196/?ref_=sr_i_15',\n",
        "    'https://www.imdb.com/title/tt0816692/?ref_=sr_i_16',\n",
        "    'https://www.imdb.com/title/tt0133093/?ref_=sr_i_17',\n",
        "    'https://www.imdb.com/title/tt0099685/?ref_=sr_i_18',\n",
        "    'https://www.imdb.com/title/tt0073486/?ref_=sr_i_19',\n",
        "    'https://www.imdb.com/title/tt0080684/?ref_=sr_i_20',\n",
        "    'https://www.imdb.com/title/tt15239678/?ref_=sr_i_21',\n",
        "    'https://www.imdb.com/title/tt0102926/?ref_=sr_i_22',\n",
        "    'https://www.imdb.com/title/tt0114369/?ref_=sr_i_23',\n",
        "    'https://www.imdb.com/title/tt9362722/?ref_=sr_i_24',\n",
        "    'https://www.imdb.com/title/tt0120815/?ref_=sr_i_25',\n",
        "    'https://www.imdb.comhttps://slyb.app.link/Aa96cLcBeAb'\n",
        "]\n",
        "\n",
        "# Removing the last element\n",
        "new_movie_links.pop()\n",
        "print(new_movie_links)\n"
      ],
      "metadata": {
        "colab": {
          "base_uri": "https://localhost:8080/"
        },
        "id": "XalIR69fbASm",
        "outputId": "5a635a92-341b-4d26-b373-557ac7172e15"
      },
      "execution_count": 83,
      "outputs": [
        {
          "output_type": "stream",
          "name": "stdout",
          "text": [
            "['https://www.imdb.com/title/tt0111161/?ref_=sr_i_1', 'https://www.imdb.com/title/tt0068646/?ref_=sr_i_2', 'https://www.imdb.com/title/tt0468569/?ref_=sr_i_3', 'https://www.imdb.com/title/tt0108052/?ref_=sr_i_4', 'https://www.imdb.com/title/tt0167260/?ref_=sr_i_5', 'https://www.imdb.com/title/tt0050083/?ref_=sr_i_6', 'https://www.imdb.com/title/tt0071562/?ref_=sr_i_7', 'https://www.imdb.com/title/tt0120737/?ref_=sr_i_8', 'https://www.imdb.com/title/tt0110912/?ref_=sr_i_9', 'https://www.imdb.com/title/tt23849204/?ref_=sr_i_10', 'https://www.imdb.com/title/tt0109830/?ref_=sr_i_11', 'https://www.imdb.com/title/tt1375666/?ref_=sr_i_12', 'https://www.imdb.com/title/tt0137523/?ref_=sr_i_13', 'https://www.imdb.com/title/tt0167261/?ref_=sr_i_14', 'https://www.imdb.com/title/tt0060196/?ref_=sr_i_15', 'https://www.imdb.com/title/tt0816692/?ref_=sr_i_16', 'https://www.imdb.com/title/tt0133093/?ref_=sr_i_17', 'https://www.imdb.com/title/tt0099685/?ref_=sr_i_18', 'https://www.imdb.com/title/tt0073486/?ref_=sr_i_19', 'https://www.imdb.com/title/tt0080684/?ref_=sr_i_20', 'https://www.imdb.com/title/tt15239678/?ref_=sr_i_21', 'https://www.imdb.com/title/tt0102926/?ref_=sr_i_22', 'https://www.imdb.com/title/tt0114369/?ref_=sr_i_23', 'https://www.imdb.com/title/tt9362722/?ref_=sr_i_24', 'https://www.imdb.com/title/tt0120815/?ref_=sr_i_25']\n"
          ]
        }
      ]
    },
    {
      "cell_type": "code",
      "source": [],
      "metadata": {
        "id": "N0DrFAMYNPzu"
      },
      "execution_count": null,
      "outputs": []
    },
    {
      "cell_type": "markdown",
      "source": [
        "### Converting the scrape elements into Data Frame"
      ],
      "metadata": {
        "id": "eQFKO2h0NQV8"
      }
    },
    {
      "cell_type": "code",
      "source": [
        "imdb_df = pd.DataFrame({\n",
        "    'movie_titles': cleaned_movie_names,\n",
        "    'release_year': release_year,\n",
        "    'runtimes': runtimes,\n",
        "    'movie_ratings': movie_ratings,\n",
        "    'views': views,\n",
        "    'movie_description': movies_description,\n",
        "    'movie_links': new_movie_links\n",
        "})\n"
      ],
      "metadata": {
        "id": "C5S-0q1pJCNA"
      },
      "execution_count": 84,
      "outputs": []
    },
    {
      "cell_type": "markdown",
      "source": [
        "### First view of Dataset"
      ],
      "metadata": {
        "id": "LQ2xQrBWNmoV"
      }
    },
    {
      "cell_type": "code",
      "source": [
        "imdb_df.head()"
      ],
      "metadata": {
        "colab": {
          "base_uri": "https://localhost:8080/",
          "height": 206
        },
        "id": "N1VKp4YWJap_",
        "outputId": "8b78a559-fc17-49ef-97dd-d1051f0edbbe"
      },
      "execution_count": 89,
      "outputs": [
        {
          "output_type": "execute_result",
          "data": {
            "text/plain": [
              "                                    movie_titles release_year runtimes  \\\n",
              "0                       The Shawshank Redemption         1994   2h 22m   \n",
              "1                                  The Godfather         1972   2h 55m   \n",
              "2                                The Dark Knight         2008   2h 32m   \n",
              "3                               Schindler's List         1993   3h 15m   \n",
              "4  The Lord of the Rings: The Return of the King         2003   3h 21m   \n",
              "\n",
              "  movie_ratings views                                  movie_description  \\\n",
              "0           9.3  2.9M  Over the course of several years, two convicts...   \n",
              "1           9.2    2M  Don Vito Corleone, head of a mafia family, dec...   \n",
              "2           9.0  2.9M  When the menace known as the Joker wreaks havo...   \n",
              "3           9.0  1.5M  In German-occupied Poland during World War II,...   \n",
              "4           9.0    2M  Gandalf and Aragorn lead the World of Men agai...   \n",
              "\n",
              "                                         movie_links  \n",
              "0  https://www.imdb.com/title/tt0111161/?ref_=sr_i_1  \n",
              "1  https://www.imdb.com/title/tt0068646/?ref_=sr_i_2  \n",
              "2  https://www.imdb.com/title/tt0468569/?ref_=sr_i_3  \n",
              "3  https://www.imdb.com/title/tt0108052/?ref_=sr_i_4  \n",
              "4  https://www.imdb.com/title/tt0167260/?ref_=sr_i_5  "
            ],
            "text/html": [
              "\n",
              "  <div id=\"df-afd3ad5c-4846-4502-a1b0-8c09a195a8ca\" class=\"colab-df-container\">\n",
              "    <div>\n",
              "<style scoped>\n",
              "    .dataframe tbody tr th:only-of-type {\n",
              "        vertical-align: middle;\n",
              "    }\n",
              "\n",
              "    .dataframe tbody tr th {\n",
              "        vertical-align: top;\n",
              "    }\n",
              "\n",
              "    .dataframe thead th {\n",
              "        text-align: right;\n",
              "    }\n",
              "</style>\n",
              "<table border=\"1\" class=\"dataframe\">\n",
              "  <thead>\n",
              "    <tr style=\"text-align: right;\">\n",
              "      <th></th>\n",
              "      <th>movie_titles</th>\n",
              "      <th>release_year</th>\n",
              "      <th>runtimes</th>\n",
              "      <th>movie_ratings</th>\n",
              "      <th>views</th>\n",
              "      <th>movie_description</th>\n",
              "      <th>movie_links</th>\n",
              "    </tr>\n",
              "  </thead>\n",
              "  <tbody>\n",
              "    <tr>\n",
              "      <th>0</th>\n",
              "      <td>The Shawshank Redemption</td>\n",
              "      <td>1994</td>\n",
              "      <td>2h 22m</td>\n",
              "      <td>9.3</td>\n",
              "      <td>2.9M</td>\n",
              "      <td>Over the course of several years, two convicts...</td>\n",
              "      <td>https://www.imdb.com/title/tt0111161/?ref_=sr_i_1</td>\n",
              "    </tr>\n",
              "    <tr>\n",
              "      <th>1</th>\n",
              "      <td>The Godfather</td>\n",
              "      <td>1972</td>\n",
              "      <td>2h 55m</td>\n",
              "      <td>9.2</td>\n",
              "      <td>2M</td>\n",
              "      <td>Don Vito Corleone, head of a mafia family, dec...</td>\n",
              "      <td>https://www.imdb.com/title/tt0068646/?ref_=sr_i_2</td>\n",
              "    </tr>\n",
              "    <tr>\n",
              "      <th>2</th>\n",
              "      <td>The Dark Knight</td>\n",
              "      <td>2008</td>\n",
              "      <td>2h 32m</td>\n",
              "      <td>9.0</td>\n",
              "      <td>2.9M</td>\n",
              "      <td>When the menace known as the Joker wreaks havo...</td>\n",
              "      <td>https://www.imdb.com/title/tt0468569/?ref_=sr_i_3</td>\n",
              "    </tr>\n",
              "    <tr>\n",
              "      <th>3</th>\n",
              "      <td>Schindler's List</td>\n",
              "      <td>1993</td>\n",
              "      <td>3h 15m</td>\n",
              "      <td>9.0</td>\n",
              "      <td>1.5M</td>\n",
              "      <td>In German-occupied Poland during World War II,...</td>\n",
              "      <td>https://www.imdb.com/title/tt0108052/?ref_=sr_i_4</td>\n",
              "    </tr>\n",
              "    <tr>\n",
              "      <th>4</th>\n",
              "      <td>The Lord of the Rings: The Return of the King</td>\n",
              "      <td>2003</td>\n",
              "      <td>3h 21m</td>\n",
              "      <td>9.0</td>\n",
              "      <td>2M</td>\n",
              "      <td>Gandalf and Aragorn lead the World of Men agai...</td>\n",
              "      <td>https://www.imdb.com/title/tt0167260/?ref_=sr_i_5</td>\n",
              "    </tr>\n",
              "  </tbody>\n",
              "</table>\n",
              "</div>\n",
              "    <div class=\"colab-df-buttons\">\n",
              "\n",
              "  <div class=\"colab-df-container\">\n",
              "    <button class=\"colab-df-convert\" onclick=\"convertToInteractive('df-afd3ad5c-4846-4502-a1b0-8c09a195a8ca')\"\n",
              "            title=\"Convert this dataframe to an interactive table.\"\n",
              "            style=\"display:none;\">\n",
              "\n",
              "  <svg xmlns=\"http://www.w3.org/2000/svg\" height=\"24px\" viewBox=\"0 -960 960 960\">\n",
              "    <path d=\"M120-120v-720h720v720H120Zm60-500h600v-160H180v160Zm220 220h160v-160H400v160Zm0 220h160v-160H400v160ZM180-400h160v-160H180v160Zm440 0h160v-160H620v160ZM180-180h160v-160H180v160Zm440 0h160v-160H620v160Z\"/>\n",
              "  </svg>\n",
              "    </button>\n",
              "\n",
              "  <style>\n",
              "    .colab-df-container {\n",
              "      display:flex;\n",
              "      gap: 12px;\n",
              "    }\n",
              "\n",
              "    .colab-df-convert {\n",
              "      background-color: #E8F0FE;\n",
              "      border: none;\n",
              "      border-radius: 50%;\n",
              "      cursor: pointer;\n",
              "      display: none;\n",
              "      fill: #1967D2;\n",
              "      height: 32px;\n",
              "      padding: 0 0 0 0;\n",
              "      width: 32px;\n",
              "    }\n",
              "\n",
              "    .colab-df-convert:hover {\n",
              "      background-color: #E2EBFA;\n",
              "      box-shadow: 0px 1px 2px rgba(60, 64, 67, 0.3), 0px 1px 3px 1px rgba(60, 64, 67, 0.15);\n",
              "      fill: #174EA6;\n",
              "    }\n",
              "\n",
              "    .colab-df-buttons div {\n",
              "      margin-bottom: 4px;\n",
              "    }\n",
              "\n",
              "    [theme=dark] .colab-df-convert {\n",
              "      background-color: #3B4455;\n",
              "      fill: #D2E3FC;\n",
              "    }\n",
              "\n",
              "    [theme=dark] .colab-df-convert:hover {\n",
              "      background-color: #434B5C;\n",
              "      box-shadow: 0px 1px 3px 1px rgba(0, 0, 0, 0.15);\n",
              "      filter: drop-shadow(0px 1px 2px rgba(0, 0, 0, 0.3));\n",
              "      fill: #FFFFFF;\n",
              "    }\n",
              "  </style>\n",
              "\n",
              "    <script>\n",
              "      const buttonEl =\n",
              "        document.querySelector('#df-afd3ad5c-4846-4502-a1b0-8c09a195a8ca button.colab-df-convert');\n",
              "      buttonEl.style.display =\n",
              "        google.colab.kernel.accessAllowed ? 'block' : 'none';\n",
              "\n",
              "      async function convertToInteractive(key) {\n",
              "        const element = document.querySelector('#df-afd3ad5c-4846-4502-a1b0-8c09a195a8ca');\n",
              "        const dataTable =\n",
              "          await google.colab.kernel.invokeFunction('convertToInteractive',\n",
              "                                                    [key], {});\n",
              "        if (!dataTable) return;\n",
              "\n",
              "        const docLinkHtml = 'Like what you see? Visit the ' +\n",
              "          '<a target=\"_blank\" href=https://colab.research.google.com/notebooks/data_table.ipynb>data table notebook</a>'\n",
              "          + ' to learn more about interactive tables.';\n",
              "        element.innerHTML = '';\n",
              "        dataTable['output_type'] = 'display_data';\n",
              "        await google.colab.output.renderOutput(dataTable, element);\n",
              "        const docLink = document.createElement('div');\n",
              "        docLink.innerHTML = docLinkHtml;\n",
              "        element.appendChild(docLink);\n",
              "      }\n",
              "    </script>\n",
              "  </div>\n",
              "\n",
              "\n",
              "<div id=\"df-0e04e71a-9098-43ec-b64a-16812ab0660a\">\n",
              "  <button class=\"colab-df-quickchart\" onclick=\"quickchart('df-0e04e71a-9098-43ec-b64a-16812ab0660a')\"\n",
              "            title=\"Suggest charts\"\n",
              "            style=\"display:none;\">\n",
              "\n",
              "<svg xmlns=\"http://www.w3.org/2000/svg\" height=\"24px\"viewBox=\"0 0 24 24\"\n",
              "     width=\"24px\">\n",
              "    <g>\n",
              "        <path d=\"M19 3H5c-1.1 0-2 .9-2 2v14c0 1.1.9 2 2 2h14c1.1 0 2-.9 2-2V5c0-1.1-.9-2-2-2zM9 17H7v-7h2v7zm4 0h-2V7h2v10zm4 0h-2v-4h2v4z\"/>\n",
              "    </g>\n",
              "</svg>\n",
              "  </button>\n",
              "\n",
              "<style>\n",
              "  .colab-df-quickchart {\n",
              "      --bg-color: #E8F0FE;\n",
              "      --fill-color: #1967D2;\n",
              "      --hover-bg-color: #E2EBFA;\n",
              "      --hover-fill-color: #174EA6;\n",
              "      --disabled-fill-color: #AAA;\n",
              "      --disabled-bg-color: #DDD;\n",
              "  }\n",
              "\n",
              "  [theme=dark] .colab-df-quickchart {\n",
              "      --bg-color: #3B4455;\n",
              "      --fill-color: #D2E3FC;\n",
              "      --hover-bg-color: #434B5C;\n",
              "      --hover-fill-color: #FFFFFF;\n",
              "      --disabled-bg-color: #3B4455;\n",
              "      --disabled-fill-color: #666;\n",
              "  }\n",
              "\n",
              "  .colab-df-quickchart {\n",
              "    background-color: var(--bg-color);\n",
              "    border: none;\n",
              "    border-radius: 50%;\n",
              "    cursor: pointer;\n",
              "    display: none;\n",
              "    fill: var(--fill-color);\n",
              "    height: 32px;\n",
              "    padding: 0;\n",
              "    width: 32px;\n",
              "  }\n",
              "\n",
              "  .colab-df-quickchart:hover {\n",
              "    background-color: var(--hover-bg-color);\n",
              "    box-shadow: 0 1px 2px rgba(60, 64, 67, 0.3), 0 1px 3px 1px rgba(60, 64, 67, 0.15);\n",
              "    fill: var(--button-hover-fill-color);\n",
              "  }\n",
              "\n",
              "  .colab-df-quickchart-complete:disabled,\n",
              "  .colab-df-quickchart-complete:disabled:hover {\n",
              "    background-color: var(--disabled-bg-color);\n",
              "    fill: var(--disabled-fill-color);\n",
              "    box-shadow: none;\n",
              "  }\n",
              "\n",
              "  .colab-df-spinner {\n",
              "    border: 2px solid var(--fill-color);\n",
              "    border-color: transparent;\n",
              "    border-bottom-color: var(--fill-color);\n",
              "    animation:\n",
              "      spin 1s steps(1) infinite;\n",
              "  }\n",
              "\n",
              "  @keyframes spin {\n",
              "    0% {\n",
              "      border-color: transparent;\n",
              "      border-bottom-color: var(--fill-color);\n",
              "      border-left-color: var(--fill-color);\n",
              "    }\n",
              "    20% {\n",
              "      border-color: transparent;\n",
              "      border-left-color: var(--fill-color);\n",
              "      border-top-color: var(--fill-color);\n",
              "    }\n",
              "    30% {\n",
              "      border-color: transparent;\n",
              "      border-left-color: var(--fill-color);\n",
              "      border-top-color: var(--fill-color);\n",
              "      border-right-color: var(--fill-color);\n",
              "    }\n",
              "    40% {\n",
              "      border-color: transparent;\n",
              "      border-right-color: var(--fill-color);\n",
              "      border-top-color: var(--fill-color);\n",
              "    }\n",
              "    60% {\n",
              "      border-color: transparent;\n",
              "      border-right-color: var(--fill-color);\n",
              "    }\n",
              "    80% {\n",
              "      border-color: transparent;\n",
              "      border-right-color: var(--fill-color);\n",
              "      border-bottom-color: var(--fill-color);\n",
              "    }\n",
              "    90% {\n",
              "      border-color: transparent;\n",
              "      border-bottom-color: var(--fill-color);\n",
              "    }\n",
              "  }\n",
              "</style>\n",
              "\n",
              "  <script>\n",
              "    async function quickchart(key) {\n",
              "      const quickchartButtonEl =\n",
              "        document.querySelector('#' + key + ' button');\n",
              "      quickchartButtonEl.disabled = true;  // To prevent multiple clicks.\n",
              "      quickchartButtonEl.classList.add('colab-df-spinner');\n",
              "      try {\n",
              "        const charts = await google.colab.kernel.invokeFunction(\n",
              "            'suggestCharts', [key], {});\n",
              "      } catch (error) {\n",
              "        console.error('Error during call to suggestCharts:', error);\n",
              "      }\n",
              "      quickchartButtonEl.classList.remove('colab-df-spinner');\n",
              "      quickchartButtonEl.classList.add('colab-df-quickchart-complete');\n",
              "    }\n",
              "    (() => {\n",
              "      let quickchartButtonEl =\n",
              "        document.querySelector('#df-0e04e71a-9098-43ec-b64a-16812ab0660a button');\n",
              "      quickchartButtonEl.style.display =\n",
              "        google.colab.kernel.accessAllowed ? 'block' : 'none';\n",
              "    })();\n",
              "  </script>\n",
              "</div>\n",
              "\n",
              "    </div>\n",
              "  </div>\n"
            ],
            "application/vnd.google.colaboratory.intrinsic+json": {
              "type": "dataframe",
              "variable_name": "imdb_df",
              "summary": "{\n  \"name\": \"imdb_df\",\n  \"rows\": 25,\n  \"fields\": [\n    {\n      \"column\": \"movie_titles\",\n      \"properties\": {\n        \"dtype\": \"string\",\n        \"num_unique_values\": 25,\n        \"samples\": [\n          \"Pulp Fiction\",\n          \"The Matrix\",\n          \"The Shawshank Redemption\"\n        ],\n        \"semantic_type\": \"\",\n        \"description\": \"\"\n      }\n    },\n    {\n      \"column\": \"release_year\",\n      \"properties\": {\n        \"dtype\": \"object\",\n        \"num_unique_values\": 20,\n        \"samples\": [\n          \"1994\",\n          \"2024\",\n          \"1975\"\n        ],\n        \"semantic_type\": \"\",\n        \"description\": \"\"\n      }\n    },\n    {\n      \"column\": \"runtimes\",\n      \"properties\": {\n        \"dtype\": \"string\",\n        \"num_unique_values\": 23,\n        \"samples\": [\n          \"2h 25m\",\n          \"2h 27m\",\n          \"2h 22m\"\n        ],\n        \"semantic_type\": \"\",\n        \"description\": \"\"\n      }\n    },\n    {\n      \"column\": \"movie_ratings\",\n      \"properties\": {\n        \"dtype\": \"category\",\n        \"num_unique_values\": 7,\n        \"samples\": [\n          \"9.3\",\n          \"9.2\",\n          \"8.7\"\n        ],\n        \"semantic_type\": \"\",\n        \"description\": \"\"\n      }\n    },\n    {\n      \"column\": \"views\",\n      \"properties\": {\n        \"dtype\": \"string\",\n        \"num_unique_values\": 18,\n        \"samples\": [\n          \"2.9M\",\n          \"2M\",\n          \"2.4M\"\n        ],\n        \"semantic_type\": \"\",\n        \"description\": \"\"\n      }\n    },\n    {\n      \"column\": \"movie_description\",\n      \"properties\": {\n        \"dtype\": \"string\",\n        \"num_unique_values\": 25,\n        \"samples\": [\n          \"The lives of two mob hitmen, a boxer, a gangster and his wife, and a pair of diner bandits intertwine in four tales of violence and redemption.\",\n          \"When a beautiful stranger leads computer hacker Neo to a forbidding underworld, he discovers the shocking truth--the life he knows is the elaborate deception of an evil cyber-intelligence.\",\n          \"Over the course of several years, two convicts form a friendship, seeking consolation and, eventually, redemption through basic compassion.\"\n        ],\n        \"semantic_type\": \"\",\n        \"description\": \"\"\n      }\n    },\n    {\n      \"column\": \"movie_links\",\n      \"properties\": {\n        \"dtype\": \"string\",\n        \"num_unique_values\": 25,\n        \"samples\": [\n          \"https://www.imdb.com/title/tt0110912/?ref_=sr_i_9\",\n          \"https://www.imdb.com/title/tt0133093/?ref_=sr_i_17\",\n          \"https://www.imdb.com/title/tt0111161/?ref_=sr_i_1\"\n        ],\n        \"semantic_type\": \"\",\n        \"description\": \"\"\n      }\n    }\n  ]\n}"
            }
          },
          "metadata": {},
          "execution_count": 89
        }
      ]
    },
    {
      "cell_type": "markdown",
      "source": [
        "### Exporting imdb_dataset into excel file"
      ],
      "metadata": {
        "id": "09JapSRCNd5m"
      }
    },
    {
      "cell_type": "code",
      "source": [
        "imdb_df.to_excel('imdb_data.xlsx', index=False)"
      ],
      "metadata": {
        "id": "nOVAUam3JjzG"
      },
      "execution_count": 86,
      "outputs": []
    },
    {
      "cell_type": "markdown",
      "source": [
        "### Conclusion : I successfully scraped data on the top 25 movies from the IMDb website using a combination of Python libraries, including Pandas and BeautifulSoup. This process involved extracting detailed information for each movie, such as titles, release years, runtimes, ratings, view counts, descriptions, and corresponding IMDb links.The resulting dataset provides a comprehensive overview of popular movies, offering valuable insights into trends in film ratings, runtime distributions, and more. This project demonstrates the effectiveness of web scraping techniques in gathering large amounts of data and highlights the potential for further exploration and analysis of movie trends on IMDb.\n"
      ],
      "metadata": {
        "id": "rxTYseBZN64p"
      }
    }
  ]
}